{
 "cells": [
  {
   "cell_type": "markdown",
   "metadata": {},
   "source": [
    "# Python code"
   ]
  },
  {
   "cell_type": "code",
   "execution_count": 2,
   "metadata": {},
   "outputs": [
    {
     "name": "stdout",
     "output_type": "stream",
     "text": [
      "0.0\n",
      "\n",
      "n: 10 , varx:  5.800131047493224\n",
      "#loops required for $ 0.01 :  232005.24189972895\n",
      "#loops required for $ 0.0001 :  2320052418.9972897\n",
      "(1.8395399971621775, 5.800131047493224, 1.5231718284544558)\n",
      "\n",
      "n: 100 , varx:  29.300529263911994\n",
      "#loops required for $ 0.01 :  1172021.1705564796\n",
      "#loops required for $ 0.0001 :  11720211705.564796\n",
      "(3.332546469951786, 29.300529263911994, 1.0825992659135142)\n",
      "\n",
      "n: 1000 , varx:  20.11226420006992\n",
      "#loops required for $ 0.01 :  804490.5680027967\n",
      "#loops required for $ 0.0001 :  8044905680.027967\n",
      "(2.6610889277472993, 20.11226420006992, 0.28363542938123876)\n",
      "\n",
      "n: 10000 , varx:  19.1874197915236\n",
      "#loops required for $ 0.01 :  767496.7916609439\n",
      "#loops required for $ 0.0001 :  7674967916.60944\n",
      "(2.564006989726943, 19.1874197915236, 0.08760689422990316)\n",
      "\n",
      "n: 100000 , varx:  20.241098265142632\n",
      "#loops required for $ 0.01 :  809643.9306057052\n",
      "#loops required for $ 0.0001 :  8096439306.057053\n",
      "(2.630788322821158, 20.241098265142632, 0.028454242752280465)\n"
     ]
    }
   ],
   "source": [
    "import numpy as np\n",
    "from numpy import cumsum, sqrt, exp, var\n",
    "from numpy.random import normal\n",
    "\n",
    "\n",
    "# np.random.seed(1234)\n",
    "\n",
    "def AsianType1Price(s,D,r,sigma,K):\n",
    "    mu = r-(sigma**2)/2\n",
    "    Sd = s*exp(cumsum(normal(mu/252,sigma/sqrt(252),D)))\n",
    "    return exp(-r*D/252)*max(sum(Sd)/D - K, 0)\n",
    "    \n",
    "def MonteCarloAsian(s,D,r,sigma,K,n):\n",
    "    results = [AsianType1Price(s,D,r,sigma,K) for i in range(n)]\n",
    "    \n",
    "    smean = sum(results)/n\n",
    "    svar = var(results)\n",
    "    stddev = sqrt(svar/n)\n",
    "\n",
    "    # deviation from true price = mean price +- 2*stddev\n",
    "    error = 2*stddev\n",
    "\n",
    "    print() \n",
    "    print(\"n:\", n, \", varx: \", svar)\n",
    "    accuracy = 0.01\n",
    "    minN = svar/(accuracy/2)**2\n",
    "    print(\"#loops required for $\", accuracy, \": \", minN)\n",
    "    accuracy = 0.0001\n",
    "    minN = svar/(accuracy/2)**2\n",
    "    print(\"#loops required for $\", accuracy, \": \", minN)\n",
    "        \n",
    "    return smean, svar, error\n",
    "\n",
    "print(AsianType1Price(61,126,0.08,0.3,63))\n",
    "print(MonteCarloAsian(61,126,0.08,0.3,63,10))\n",
    "print(MonteCarloAsian(61,126,0.08,0.3,63,100))\n",
    "print(MonteCarloAsian(61,126,0.08,0.3,63,1000))\n",
    "print(MonteCarloAsian(61,126,0.08,0.3,63,10000))\n",
    "print(MonteCarloAsian(61,126,0.08,0.3,63,100000))\n"
   ]
  },
  {
   "cell_type": "code",
   "execution_count": null,
   "metadata": {},
   "outputs": [],
   "source": []
  }
 ],
 "metadata": {
  "kernelspec": {
   "display_name": "base",
   "language": "python",
   "name": "python3"
  },
  "language_info": {
   "codemirror_mode": {
    "name": "ipython",
    "version": 3
   },
   "file_extension": ".py",
   "mimetype": "text/x-python",
   "name": "python",
   "nbconvert_exporter": "python",
   "pygments_lexer": "ipython3",
   "version": "3.9.13"
  },
  "orig_nbformat": 4
 },
 "nbformat": 4,
 "nbformat_minor": 2
}
